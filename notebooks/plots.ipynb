{
 "cells": [
  {
   "cell_type": "code",
   "execution_count": 2,
   "metadata": {},
   "outputs": [],
   "source": [
    "import numpy as np\n",
    "import pandas as pd\n",
    "import seaborn as sns\n",
    "import plotly.express as px\n",
    "import matplotlib.pyplot as plt"
   ]
  },
  {
   "cell_type": "code",
   "execution_count": 3,
   "metadata": {},
   "outputs": [
    {
     "data": {
      "text/html": [
       "<div>\n",
       "<style scoped>\n",
       "    .dataframe tbody tr th:only-of-type {\n",
       "        vertical-align: middle;\n",
       "    }\n",
       "\n",
       "    .dataframe tbody tr th {\n",
       "        vertical-align: top;\n",
       "    }\n",
       "\n",
       "    .dataframe thead th {\n",
       "        text-align: right;\n",
       "    }\n",
       "</style>\n",
       "<table border=\"1\" class=\"dataframe\">\n",
       "  <thead>\n",
       "    <tr style=\"text-align: right;\">\n",
       "      <th></th>\n",
       "      <th>ID</th>\n",
       "      <th>Year_Birth</th>\n",
       "      <th>Education</th>\n",
       "      <th>Marital_Status</th>\n",
       "      <th>Income</th>\n",
       "      <th>Kidhome</th>\n",
       "      <th>Teenhome</th>\n",
       "      <th>Dt_Customer</th>\n",
       "      <th>Recency</th>\n",
       "      <th>MntWines</th>\n",
       "      <th>...</th>\n",
       "      <th>AcceptedCmp2</th>\n",
       "      <th>Complain</th>\n",
       "      <th>Response</th>\n",
       "      <th>Customer_For</th>\n",
       "      <th>Age</th>\n",
       "      <th>Spent</th>\n",
       "      <th>Living_With</th>\n",
       "      <th>Children</th>\n",
       "      <th>Family_Size</th>\n",
       "      <th>Is_Parent</th>\n",
       "    </tr>\n",
       "  </thead>\n",
       "  <tbody>\n",
       "    <tr>\n",
       "      <th>0</th>\n",
       "      <td>5524</td>\n",
       "      <td>1957</td>\n",
       "      <td>Graduation</td>\n",
       "      <td>Single</td>\n",
       "      <td>58138.0</td>\n",
       "      <td>0</td>\n",
       "      <td>0</td>\n",
       "      <td>2012-04-09</td>\n",
       "      <td>58</td>\n",
       "      <td>635</td>\n",
       "      <td>...</td>\n",
       "      <td>0</td>\n",
       "      <td>0</td>\n",
       "      <td>1</td>\n",
       "      <td>83894400000000000</td>\n",
       "      <td>64</td>\n",
       "      <td>1617</td>\n",
       "      <td>Alone</td>\n",
       "      <td>0</td>\n",
       "      <td>1</td>\n",
       "      <td>0</td>\n",
       "    </tr>\n",
       "    <tr>\n",
       "      <th>1</th>\n",
       "      <td>2174</td>\n",
       "      <td>1954</td>\n",
       "      <td>Graduation</td>\n",
       "      <td>Single</td>\n",
       "      <td>46344.0</td>\n",
       "      <td>1</td>\n",
       "      <td>1</td>\n",
       "      <td>2014-08-03</td>\n",
       "      <td>38</td>\n",
       "      <td>11</td>\n",
       "      <td>...</td>\n",
       "      <td>0</td>\n",
       "      <td>0</td>\n",
       "      <td>0</td>\n",
       "      <td>10800000000000000</td>\n",
       "      <td>67</td>\n",
       "      <td>27</td>\n",
       "      <td>Alone</td>\n",
       "      <td>2</td>\n",
       "      <td>3</td>\n",
       "      <td>1</td>\n",
       "    </tr>\n",
       "    <tr>\n",
       "      <th>2</th>\n",
       "      <td>4141</td>\n",
       "      <td>1965</td>\n",
       "      <td>Graduation</td>\n",
       "      <td>Together</td>\n",
       "      <td>71613.0</td>\n",
       "      <td>0</td>\n",
       "      <td>0</td>\n",
       "      <td>2013-08-21</td>\n",
       "      <td>26</td>\n",
       "      <td>426</td>\n",
       "      <td>...</td>\n",
       "      <td>0</td>\n",
       "      <td>0</td>\n",
       "      <td>0</td>\n",
       "      <td>40780800000000000</td>\n",
       "      <td>56</td>\n",
       "      <td>776</td>\n",
       "      <td>Partner</td>\n",
       "      <td>0</td>\n",
       "      <td>2</td>\n",
       "      <td>0</td>\n",
       "    </tr>\n",
       "    <tr>\n",
       "      <th>3</th>\n",
       "      <td>6182</td>\n",
       "      <td>1984</td>\n",
       "      <td>Graduation</td>\n",
       "      <td>Together</td>\n",
       "      <td>26646.0</td>\n",
       "      <td>1</td>\n",
       "      <td>0</td>\n",
       "      <td>2014-10-02</td>\n",
       "      <td>26</td>\n",
       "      <td>11</td>\n",
       "      <td>...</td>\n",
       "      <td>0</td>\n",
       "      <td>0</td>\n",
       "      <td>0</td>\n",
       "      <td>5616000000000000</td>\n",
       "      <td>37</td>\n",
       "      <td>53</td>\n",
       "      <td>Partner</td>\n",
       "      <td>1</td>\n",
       "      <td>3</td>\n",
       "      <td>1</td>\n",
       "    </tr>\n",
       "    <tr>\n",
       "      <th>4</th>\n",
       "      <td>5324</td>\n",
       "      <td>1981</td>\n",
       "      <td>PhD</td>\n",
       "      <td>Married</td>\n",
       "      <td>58293.0</td>\n",
       "      <td>1</td>\n",
       "      <td>0</td>\n",
       "      <td>2014-01-19</td>\n",
       "      <td>94</td>\n",
       "      <td>173</td>\n",
       "      <td>...</td>\n",
       "      <td>0</td>\n",
       "      <td>0</td>\n",
       "      <td>0</td>\n",
       "      <td>27734400000000000</td>\n",
       "      <td>40</td>\n",
       "      <td>422</td>\n",
       "      <td>Partner</td>\n",
       "      <td>1</td>\n",
       "      <td>3</td>\n",
       "      <td>1</td>\n",
       "    </tr>\n",
       "  </tbody>\n",
       "</table>\n",
       "<p>5 rows × 34 columns</p>\n",
       "</div>"
      ],
      "text/plain": [
       "     ID  Year_Birth   Education Marital_Status   Income  Kidhome  Teenhome  \\\n",
       "0  5524        1957  Graduation         Single  58138.0        0         0   \n",
       "1  2174        1954  Graduation         Single  46344.0        1         1   \n",
       "2  4141        1965  Graduation       Together  71613.0        0         0   \n",
       "3  6182        1984  Graduation       Together  26646.0        1         0   \n",
       "4  5324        1981         PhD        Married  58293.0        1         0   \n",
       "\n",
       "  Dt_Customer  Recency  MntWines  ...  AcceptedCmp2  Complain  Response  \\\n",
       "0  2012-04-09       58       635  ...             0         0         1   \n",
       "1  2014-08-03       38        11  ...             0         0         0   \n",
       "2  2013-08-21       26       426  ...             0         0         0   \n",
       "3  2014-10-02       26        11  ...             0         0         0   \n",
       "4  2014-01-19       94       173  ...             0         0         0   \n",
       "\n",
       "        Customer_For  Age  Spent  Living_With  Children  Family_Size  \\\n",
       "0  83894400000000000   64   1617        Alone         0            1   \n",
       "1  10800000000000000   67     27        Alone         2            3   \n",
       "2  40780800000000000   56    776      Partner         0            2   \n",
       "3   5616000000000000   37     53      Partner         1            3   \n",
       "4  27734400000000000   40    422      Partner         1            3   \n",
       "\n",
       "   Is_Parent  \n",
       "0          0  \n",
       "1          1  \n",
       "2          0  \n",
       "3          1  \n",
       "4          1  \n",
       "\n",
       "[5 rows x 34 columns]"
      ]
     },
     "execution_count": 3,
     "metadata": {},
     "output_type": "execute_result"
    }
   ],
   "source": [
    "df = pd.read_csv('../src/data/marketing_campaign_cleaned.csv', index_col=[0])\n",
    "df.head()"
   ]
  },
  {
   "cell_type": "code",
   "execution_count": 49,
   "metadata": {},
   "outputs": [
    {
     "data": {
      "application/vnd.plotly.v1+json": {
       "config": {
        "plotlyServerURL": "https://plot.ly"
       },
       "data": [
        {
         "alignmentgroup": "True",
         "bingroup": "x",
         "hovertemplate": "Education=%{x}<br>count=%{y}<extra></extra>",
         "legendgroup": "Graduation",
         "marker": {
          "color": "#636efa",
          "pattern": {
           "shape": ""
          }
         },
         "name": "Graduation",
         "offsetgroup": "Graduation",
         "orientation": "v",
         "showlegend": true,
         "type": "histogram",
         "x": [
          "Graduation",
          "Graduation",
          "Graduation",
          "Graduation",
          "Graduation",
          "Graduation",
          "Graduation",
          "Graduation",
          "Graduation",
          "Graduation",
          "Graduation",
          "Graduation",
          "Graduation",
          "Graduation",
          "Graduation",
          "Graduation",
          "Graduation",
          "Graduation",
          "Graduation",
          "Graduation",
          "Graduation",
          "Graduation",
          "Graduation",
          "Graduation",
          "Graduation",
          "Graduation",
          "Graduation",
          "Graduation",
          "Graduation",
          "Graduation",
          "Graduation",
          "Graduation",
          "Graduation",
          "Graduation",
          "Graduation",
          "Graduation",
          "Graduation",
          "Graduation",
          "Graduation",
          "Graduation",
          "Graduation",
          "Graduation",
          "Graduation",
          "Graduation",
          "Graduation",
          "Graduation",
          "Graduation",
          "Graduation",
          "Graduation",
          "Graduation",
          "Graduation",
          "Graduation",
          "Graduation",
          "Graduation",
          "Graduation",
          "Graduation",
          "Graduation",
          "Graduation",
          "Graduation",
          "Graduation",
          "Graduation",
          "Graduation",
          "Graduation",
          "Graduation",
          "Graduation",
          "Graduation",
          "Graduation",
          "Graduation",
          "Graduation",
          "Graduation",
          "Graduation",
          "Graduation",
          "Graduation",
          "Graduation",
          "Graduation",
          "Graduation",
          "Graduation",
          "Graduation",
          "Graduation",
          "Graduation",
          "Graduation",
          "Graduation",
          "Graduation",
          "Graduation",
          "Graduation",
          "Graduation",
          "Graduation",
          "Graduation",
          "Graduation",
          "Graduation",
          "Graduation",
          "Graduation",
          "Graduation",
          "Graduation",
          "Graduation",
          "Graduation",
          "Graduation",
          "Graduation",
          "Graduation",
          "Graduation",
          "Graduation",
          "Graduation",
          "Graduation",
          "Graduation",
          "Graduation",
          "Graduation",
          "Graduation",
          "Graduation",
          "Graduation",
          "Graduation",
          "Graduation",
          "Graduation",
          "Graduation",
          "Graduation",
          "Graduation",
          "Graduation",
          "Graduation",
          "Graduation",
          "Graduation",
          "Graduation",
          "Graduation",
          "Graduation",
          "Graduation",
          "Graduation",
          "Graduation",
          "Graduation",
          "Graduation",
          "Graduation",
          "Graduation",
          "Graduation",
          "Graduation",
          "Graduation",
          "Graduation",
          "Graduation",
          "Graduation",
          "Graduation",
          "Graduation",
          "Graduation",
          "Graduation",
          "Graduation",
          "Graduation",
          "Graduation",
          "Graduation",
          "Graduation",
          "Graduation",
          "Graduation",
          "Graduation",
          "Graduation",
          "Graduation",
          "Graduation",
          "Graduation",
          "Graduation",
          "Graduation",
          "Graduation",
          "Graduation",
          "Graduation",
          "Graduation",
          "Graduation",
          "Graduation",
          "Graduation",
          "Graduation",
          "Graduation",
          "Graduation",
          "Graduation",
          "Graduation",
          "Graduation",
          "Graduation",
          "Graduation",
          "Graduation",
          "Graduation",
          "Graduation",
          "Graduation",
          "Graduation",
          "Graduation",
          "Graduation",
          "Graduation",
          "Graduation",
          "Graduation",
          "Graduation",
          "Graduation",
          "Graduation",
          "Graduation",
          "Graduation",
          "Graduation",
          "Graduation",
          "Graduation",
          "Graduation",
          "Graduation",
          "Graduation",
          "Graduation",
          "Graduation",
          "Graduation",
          "Graduation",
          "Graduation",
          "Graduation",
          "Graduation",
          "Graduation",
          "Graduation",
          "Graduation",
          "Graduation",
          "Graduation",
          "Graduation",
          "Graduation",
          "Graduation",
          "Graduation",
          "Graduation",
          "Graduation",
          "Graduation",
          "Graduation",
          "Graduation",
          "Graduation",
          "Graduation",
          "Graduation",
          "Graduation",
          "Graduation",
          "Graduation",
          "Graduation",
          "Graduation",
          "Graduation",
          "Graduation",
          "Graduation",
          "Graduation",
          "Graduation",
          "Graduation",
          "Graduation",
          "Graduation",
          "Graduation",
          "Graduation",
          "Graduation",
          "Graduation",
          "Graduation",
          "Graduation",
          "Graduation",
          "Graduation",
          "Graduation",
          "Graduation",
          "Graduation",
          "Graduation",
          "Graduation",
          "Graduation",
          "Graduation",
          "Graduation",
          "Graduation",
          "Graduation",
          "Graduation",
          "Graduation",
          "Graduation",
          "Graduation",
          "Graduation",
          "Graduation",
          "Graduation",
          "Graduation",
          "Graduation",
          "Graduation",
          "Graduation",
          "Graduation",
          "Graduation",
          "Graduation",
          "Graduation",
          "Graduation",
          "Graduation",
          "Graduation",
          "Graduation",
          "Graduation",
          "Graduation",
          "Graduation",
          "Graduation",
          "Graduation",
          "Graduation",
          "Graduation",
          "Graduation",
          "Graduation",
          "Graduation",
          "Graduation",
          "Graduation",
          "Graduation",
          "Graduation",
          "Graduation",
          "Graduation",
          "Graduation",
          "Graduation",
          "Graduation",
          "Graduation",
          "Graduation",
          "Graduation",
          "Graduation",
          "Graduation",
          "Graduation",
          "Graduation",
          "Graduation",
          "Graduation",
          "Graduation",
          "Graduation",
          "Graduation",
          "Graduation",
          "Graduation",
          "Graduation",
          "Graduation",
          "Graduation",
          "Graduation",
          "Graduation",
          "Graduation",
          "Graduation",
          "Graduation",
          "Graduation",
          "Graduation",
          "Graduation",
          "Graduation",
          "Graduation",
          "Graduation",
          "Graduation",
          "Graduation",
          "Graduation",
          "Graduation",
          "Graduation",
          "Graduation",
          "Graduation",
          "Graduation",
          "Graduation",
          "Graduation",
          "Graduation",
          "Graduation",
          "Graduation",
          "Graduation",
          "Graduation",
          "Graduation",
          "Graduation",
          "Graduation",
          "Graduation",
          "Graduation",
          "Graduation",
          "Graduation",
          "Graduation",
          "Graduation",
          "Graduation",
          "Graduation",
          "Graduation",
          "Graduation",
          "Graduation",
          "Graduation",
          "Graduation",
          "Graduation",
          "Graduation",
          "Graduation",
          "Graduation",
          "Graduation",
          "Graduation",
          "Graduation",
          "Graduation",
          "Graduation",
          "Graduation",
          "Graduation",
          "Graduation",
          "Graduation",
          "Graduation",
          "Graduation",
          "Graduation",
          "Graduation",
          "Graduation",
          "Graduation",
          "Graduation",
          "Graduation",
          "Graduation",
          "Graduation",
          "Graduation",
          "Graduation",
          "Graduation",
          "Graduation",
          "Graduation",
          "Graduation",
          "Graduation",
          "Graduation",
          "Graduation",
          "Graduation",
          "Graduation",
          "Graduation",
          "Graduation",
          "Graduation",
          "Graduation",
          "Graduation",
          "Graduation",
          "Graduation",
          "Graduation",
          "Graduation",
          "Graduation",
          "Graduation",
          "Graduation",
          "Graduation",
          "Graduation",
          "Graduation",
          "Graduation",
          "Graduation",
          "Graduation",
          "Graduation",
          "Graduation",
          "Graduation",
          "Graduation",
          "Graduation",
          "Graduation",
          "Graduation",
          "Graduation",
          "Graduation",
          "Graduation",
          "Graduation",
          "Graduation",
          "Graduation",
          "Graduation",
          "Graduation",
          "Graduation",
          "Graduation",
          "Graduation",
          "Graduation",
          "Graduation",
          "Graduation",
          "Graduation",
          "Graduation",
          "Graduation",
          "Graduation",
          "Graduation",
          "Graduation",
          "Graduation",
          "Graduation",
          "Graduation",
          "Graduation",
          "Graduation",
          "Graduation",
          "Graduation",
          "Graduation",
          "Graduation",
          "Graduation",
          "Graduation",
          "Graduation",
          "Graduation",
          "Graduation",
          "Graduation",
          "Graduation",
          "Graduation",
          "Graduation",
          "Graduation",
          "Graduation",
          "Graduation",
          "Graduation",
          "Graduation",
          "Graduation",
          "Graduation",
          "Graduation",
          "Graduation",
          "Graduation",
          "Graduation",
          "Graduation",
          "Graduation",
          "Graduation",
          "Graduation",
          "Graduation",
          "Graduation",
          "Graduation",
          "Graduation",
          "Graduation",
          "Graduation",
          "Graduation",
          "Graduation",
          "Graduation",
          "Graduation",
          "Graduation",
          "Graduation",
          "Graduation",
          "Graduation",
          "Graduation",
          "Graduation",
          "Graduation",
          "Graduation",
          "Graduation",
          "Graduation",
          "Graduation",
          "Graduation",
          "Graduation",
          "Graduation",
          "Graduation",
          "Graduation",
          "Graduation",
          "Graduation",
          "Graduation",
          "Graduation",
          "Graduation",
          "Graduation",
          "Graduation",
          "Graduation",
          "Graduation",
          "Graduation",
          "Graduation",
          "Graduation",
          "Graduation",
          "Graduation",
          "Graduation",
          "Graduation",
          "Graduation",
          "Graduation",
          "Graduation",
          "Graduation",
          "Graduation",
          "Graduation",
          "Graduation",
          "Graduation",
          "Graduation",
          "Graduation",
          "Graduation",
          "Graduation",
          "Graduation",
          "Graduation",
          "Graduation",
          "Graduation",
          "Graduation",
          "Graduation",
          "Graduation",
          "Graduation",
          "Graduation",
          "Graduation",
          "Graduation",
          "Graduation",
          "Graduation",
          "Graduation",
          "Graduation",
          "Graduation",
          "Graduation",
          "Graduation",
          "Graduation",
          "Graduation",
          "Graduation",
          "Graduation",
          "Graduation",
          "Graduation",
          "Graduation",
          "Graduation",
          "Graduation",
          "Graduation",
          "Graduation",
          "Graduation",
          "Graduation",
          "Graduation",
          "Graduation",
          "Graduation",
          "Graduation",
          "Graduation",
          "Graduation",
          "Graduation",
          "Graduation",
          "Graduation",
          "Graduation",
          "Graduation",
          "Graduation",
          "Graduation",
          "Graduation",
          "Graduation",
          "Graduation",
          "Graduation",
          "Graduation",
          "Graduation",
          "Graduation",
          "Graduation",
          "Graduation",
          "Graduation",
          "Graduation",
          "Graduation",
          "Graduation",
          "Graduation",
          "Graduation",
          "Graduation",
          "Graduation",
          "Graduation",
          "Graduation",
          "Graduation",
          "Graduation",
          "Graduation",
          "Graduation",
          "Graduation",
          "Graduation",
          "Graduation",
          "Graduation",
          "Graduation",
          "Graduation",
          "Graduation",
          "Graduation",
          "Graduation",
          "Graduation",
          "Graduation",
          "Graduation",
          "Graduation",
          "Graduation",
          "Graduation",
          "Graduation",
          "Graduation",
          "Graduation",
          "Graduation",
          "Graduation",
          "Graduation",
          "Graduation",
          "Graduation",
          "Graduation",
          "Graduation",
          "Graduation",
          "Graduation",
          "Graduation",
          "Graduation",
          "Graduation",
          "Graduation",
          "Graduation",
          "Graduation",
          "Graduation",
          "Graduation",
          "Graduation",
          "Graduation",
          "Graduation",
          "Graduation",
          "Graduation",
          "Graduation",
          "Graduation",
          "Graduation",
          "Graduation",
          "Graduation",
          "Graduation",
          "Graduation",
          "Graduation",
          "Graduation",
          "Graduation",
          "Graduation",
          "Graduation",
          "Graduation",
          "Graduation",
          "Graduation",
          "Graduation",
          "Graduation",
          "Graduation",
          "Graduation",
          "Graduation",
          "Graduation",
          "Graduation",
          "Graduation",
          "Graduation",
          "Graduation",
          "Graduation",
          "Graduation",
          "Graduation",
          "Graduation",
          "Graduation",
          "Graduation",
          "Graduation",
          "Graduation",
          "Graduation",
          "Graduation",
          "Graduation",
          "Graduation",
          "Graduation",
          "Graduation",
          "Graduation",
          "Graduation",
          "Graduation",
          "Graduation",
          "Graduation",
          "Graduation",
          "Graduation",
          "Graduation",
          "Graduation",
          "Graduation",
          "Graduation",
          "Graduation",
          "Graduation",
          "Graduation",
          "Graduation",
          "Graduation",
          "Graduation",
          "Graduation",
          "Graduation",
          "Graduation",
          "Graduation",
          "Graduation",
          "Graduation",
          "Graduation",
          "Graduation",
          "Graduation",
          "Graduation",
          "Graduation",
          "Graduation",
          "Graduation",
          "Graduation",
          "Graduation",
          "Graduation",
          "Graduation",
          "Graduation",
          "Graduation",
          "Graduation",
          "Graduation",
          "Graduation",
          "Graduation",
          "Graduation",
          "Graduation",
          "Graduation",
          "Graduation",
          "Graduation",
          "Graduation",
          "Graduation",
          "Graduation",
          "Graduation",
          "Graduation",
          "Graduation",
          "Graduation",
          "Graduation",
          "Graduation",
          "Graduation",
          "Graduation",
          "Graduation",
          "Graduation",
          "Graduation",
          "Graduation",
          "Graduation",
          "Graduation",
          "Graduation",
          "Graduation",
          "Graduation",
          "Graduation",
          "Graduation",
          "Graduation",
          "Graduation",
          "Graduation",
          "Graduation",
          "Graduation",
          "Graduation",
          "Graduation",
          "Graduation",
          "Graduation",
          "Graduation",
          "Graduation",
          "Graduation",
          "Graduation",
          "Graduation",
          "Graduation",
          "Graduation",
          "Graduation",
          "Graduation",
          "Graduation",
          "Graduation",
          "Graduation",
          "Graduation",
          "Graduation",
          "Graduation",
          "Graduation",
          "Graduation",
          "Graduation",
          "Graduation",
          "Graduation",
          "Graduation",
          "Graduation",
          "Graduation",
          "Graduation",
          "Graduation",
          "Graduation",
          "Graduation",
          "Graduation",
          "Graduation",
          "Graduation",
          "Graduation",
          "Graduation",
          "Graduation",
          "Graduation",
          "Graduation",
          "Graduation",
          "Graduation",
          "Graduation",
          "Graduation",
          "Graduation",
          "Graduation",
          "Graduation",
          "Graduation",
          "Graduation",
          "Graduation",
          "Graduation",
          "Graduation",
          "Graduation",
          "Graduation",
          "Graduation",
          "Graduation",
          "Graduation",
          "Graduation",
          "Graduation",
          "Graduation",
          "Graduation",
          "Graduation",
          "Graduation",
          "Graduation",
          "Graduation",
          "Graduation",
          "Graduation",
          "Graduation",
          "Graduation",
          "Graduation",
          "Graduation",
          "Graduation",
          "Graduation",
          "Graduation",
          "Graduation",
          "Graduation",
          "Graduation",
          "Graduation",
          "Graduation",
          "Graduation",
          "Graduation",
          "Graduation",
          "Graduation",
          "Graduation",
          "Graduation",
          "Graduation",
          "Graduation",
          "Graduation",
          "Graduation",
          "Graduation",
          "Graduation",
          "Graduation",
          "Graduation",
          "Graduation",
          "Graduation",
          "Graduation",
          "Graduation",
          "Graduation",
          "Graduation",
          "Graduation",
          "Graduation",
          "Graduation",
          "Graduation",
          "Graduation",
          "Graduation",
          "Graduation",
          "Graduation",
          "Graduation",
          "Graduation",
          "Graduation",
          "Graduation",
          "Graduation",
          "Graduation",
          "Graduation",
          "Graduation",
          "Graduation",
          "Graduation",
          "Graduation",
          "Graduation",
          "Graduation",
          "Graduation",
          "Graduation",
          "Graduation",
          "Graduation",
          "Graduation",
          "Graduation",
          "Graduation",
          "Graduation",
          "Graduation",
          "Graduation",
          "Graduation",
          "Graduation",
          "Graduation",
          "Graduation",
          "Graduation",
          "Graduation",
          "Graduation",
          "Graduation",
          "Graduation",
          "Graduation",
          "Graduation",
          "Graduation",
          "Graduation",
          "Graduation",
          "Graduation",
          "Graduation",
          "Graduation",
          "Graduation",
          "Graduation",
          "Graduation",
          "Graduation",
          "Graduation",
          "Graduation",
          "Graduation",
          "Graduation",
          "Graduation",
          "Graduation",
          "Graduation",
          "Graduation",
          "Graduation",
          "Graduation",
          "Graduation",
          "Graduation",
          "Graduation",
          "Graduation",
          "Graduation",
          "Graduation",
          "Graduation",
          "Graduation",
          "Graduation",
          "Graduation",
          "Graduation",
          "Graduation",
          "Graduation",
          "Graduation",
          "Graduation",
          "Graduation",
          "Graduation",
          "Graduation",
          "Graduation",
          "Graduation",
          "Graduation",
          "Graduation",
          "Graduation",
          "Graduation",
          "Graduation",
          "Graduation",
          "Graduation",
          "Graduation",
          "Graduation",
          "Graduation",
          "Graduation",
          "Graduation",
          "Graduation",
          "Graduation",
          "Graduation",
          "Graduation",
          "Graduation",
          "Graduation",
          "Graduation",
          "Graduation",
          "Graduation",
          "Graduation",
          "Graduation",
          "Graduation",
          "Graduation",
          "Graduation",
          "Graduation",
          "Graduation",
          "Graduation",
          "Graduation",
          "Graduation",
          "Graduation",
          "Graduation",
          "Graduation",
          "Graduation",
          "Graduation",
          "Graduation",
          "Graduation",
          "Graduation",
          "Graduation",
          "Graduation",
          "Graduation",
          "Graduation",
          "Graduation",
          "Graduation",
          "Graduation",
          "Graduation",
          "Graduation",
          "Graduation",
          "Graduation",
          "Graduation",
          "Graduation",
          "Graduation",
          "Graduation",
          "Graduation",
          "Graduation",
          "Graduation",
          "Graduation",
          "Graduation",
          "Graduation",
          "Graduation",
          "Graduation",
          "Graduation",
          "Graduation",
          "Graduation",
          "Graduation",
          "Graduation",
          "Graduation",
          "Graduation",
          "Graduation",
          "Graduation",
          "Graduation",
          "Graduation",
          "Graduation",
          "Graduation",
          "Graduation",
          "Graduation",
          "Graduation",
          "Graduation",
          "Graduation",
          "Graduation",
          "Graduation",
          "Graduation",
          "Graduation",
          "Graduation",
          "Graduation",
          "Graduation",
          "Graduation",
          "Graduation",
          "Graduation",
          "Graduation",
          "Graduation",
          "Graduation",
          "Graduation",
          "Graduation",
          "Graduation",
          "Graduation",
          "Graduation",
          "Graduation",
          "Graduation",
          "Graduation",
          "Graduation",
          "Graduation",
          "Graduation",
          "Graduation",
          "Graduation",
          "Graduation",
          "Graduation",
          "Graduation",
          "Graduation",
          "Graduation",
          "Graduation",
          "Graduation",
          "Graduation",
          "Graduation",
          "Graduation",
          "Graduation",
          "Graduation",
          "Graduation",
          "Graduation",
          "Graduation",
          "Graduation",
          "Graduation",
          "Graduation",
          "Graduation",
          "Graduation",
          "Graduation",
          "Graduation",
          "Graduation",
          "Graduation",
          "Graduation",
          "Graduation",
          "Graduation",
          "Graduation",
          "Graduation",
          "Graduation",
          "Graduation",
          "Graduation",
          "Graduation",
          "Graduation",
          "Graduation",
          "Graduation",
          "Graduation",
          "Graduation",
          "Graduation",
          "Graduation",
          "Graduation",
          "Graduation",
          "Graduation",
          "Graduation",
          "Graduation",
          "Graduation",
          "Graduation",
          "Graduation",
          "Graduation",
          "Graduation",
          "Graduation",
          "Graduation",
          "Graduation",
          "Graduation",
          "Graduation",
          "Graduation",
          "Graduation",
          "Graduation",
          "Graduation",
          "Graduation",
          "Graduation",
          "Graduation",
          "Graduation",
          "Graduation",
          "Graduation",
          "Graduation",
          "Graduation",
          "Graduation",
          "Graduation",
          "Graduation",
          "Graduation",
          "Graduation",
          "Graduation",
          "Graduation",
          "Graduation",
          "Graduation",
          "Graduation",
          "Graduation",
          "Graduation",
          "Graduation",
          "Graduation",
          "Graduation",
          "Graduation",
          "Graduation",
          "Graduation",
          "Graduation",
          "Graduation",
          "Graduation",
          "Graduation",
          "Graduation",
          "Graduation",
          "Graduation",
          "Graduation",
          "Graduation",
          "Graduation",
          "Graduation",
          "Graduation",
          "Graduation",
          "Graduation",
          "Graduation",
          "Graduation",
          "Graduation",
          "Graduation",
          "Graduation"
         ],
         "xaxis": "x",
         "yaxis": "y"
        },
        {
         "alignmentgroup": "True",
         "bingroup": "x",
         "hovertemplate": "Education=%{x}<br>count=%{y}<extra></extra>",
         "legendgroup": "PhD",
         "marker": {
          "color": "#EF553B",
          "pattern": {
           "shape": ""
          }
         },
         "name": "PhD",
         "offsetgroup": "PhD",
         "orientation": "v",
         "showlegend": true,
         "type": "histogram",
         "x": [
          "PhD",
          "PhD",
          "PhD",
          "PhD",
          "PhD",
          "PhD",
          "PhD",
          "PhD",
          "PhD",
          "PhD",
          "PhD",
          "PhD",
          "PhD",
          "PhD",
          "PhD",
          "PhD",
          "PhD",
          "PhD",
          "PhD",
          "PhD",
          "PhD",
          "PhD",
          "PhD",
          "PhD",
          "PhD",
          "PhD",
          "PhD",
          "PhD",
          "PhD",
          "PhD",
          "PhD",
          "PhD",
          "PhD",
          "PhD",
          "PhD",
          "PhD",
          "PhD",
          "PhD",
          "PhD",
          "PhD",
          "PhD",
          "PhD",
          "PhD",
          "PhD",
          "PhD",
          "PhD",
          "PhD",
          "PhD",
          "PhD",
          "PhD",
          "PhD",
          "PhD",
          "PhD",
          "PhD",
          "PhD",
          "PhD",
          "PhD",
          "PhD",
          "PhD",
          "PhD",
          "PhD",
          "PhD",
          "PhD",
          "PhD",
          "PhD",
          "PhD",
          "PhD",
          "PhD",
          "PhD",
          "PhD",
          "PhD",
          "PhD",
          "PhD",
          "PhD",
          "PhD",
          "PhD",
          "PhD",
          "PhD",
          "PhD",
          "PhD",
          "PhD",
          "PhD",
          "PhD",
          "PhD",
          "PhD",
          "PhD",
          "PhD",
          "PhD",
          "PhD",
          "PhD",
          "PhD",
          "PhD",
          "PhD",
          "PhD",
          "PhD",
          "PhD",
          "PhD",
          "PhD",
          "PhD",
          "PhD",
          "PhD",
          "PhD",
          "PhD",
          "PhD",
          "PhD",
          "PhD",
          "PhD",
          "PhD",
          "PhD",
          "PhD",
          "PhD",
          "PhD",
          "PhD",
          "PhD",
          "PhD",
          "PhD",
          "PhD",
          "PhD",
          "PhD",
          "PhD",
          "PhD",
          "PhD",
          "PhD",
          "PhD",
          "PhD",
          "PhD",
          "PhD",
          "PhD",
          "PhD",
          "PhD",
          "PhD",
          "PhD",
          "PhD",
          "PhD",
          "PhD",
          "PhD",
          "PhD",
          "PhD",
          "PhD",
          "PhD",
          "PhD",
          "PhD",
          "PhD",
          "PhD",
          "PhD",
          "PhD",
          "PhD",
          "PhD",
          "PhD",
          "PhD",
          "PhD",
          "PhD",
          "PhD",
          "PhD",
          "PhD",
          "PhD",
          "PhD",
          "PhD",
          "PhD",
          "PhD",
          "PhD",
          "PhD",
          "PhD",
          "PhD",
          "PhD",
          "PhD",
          "PhD",
          "PhD",
          "PhD",
          "PhD",
          "PhD",
          "PhD",
          "PhD",
          "PhD",
          "PhD",
          "PhD",
          "PhD",
          "PhD",
          "PhD",
          "PhD",
          "PhD",
          "PhD",
          "PhD",
          "PhD",
          "PhD",
          "PhD",
          "PhD",
          "PhD",
          "PhD",
          "PhD",
          "PhD",
          "PhD",
          "PhD",
          "PhD",
          "PhD",
          "PhD",
          "PhD",
          "PhD",
          "PhD",
          "PhD",
          "PhD",
          "PhD",
          "PhD",
          "PhD",
          "PhD",
          "PhD",
          "PhD",
          "PhD",
          "PhD",
          "PhD",
          "PhD",
          "PhD",
          "PhD",
          "PhD",
          "PhD",
          "PhD",
          "PhD",
          "PhD",
          "PhD",
          "PhD",
          "PhD",
          "PhD",
          "PhD",
          "PhD",
          "PhD",
          "PhD",
          "PhD",
          "PhD",
          "PhD",
          "PhD",
          "PhD",
          "PhD",
          "PhD",
          "PhD",
          "PhD",
          "PhD",
          "PhD",
          "PhD",
          "PhD",
          "PhD",
          "PhD",
          "PhD",
          "PhD",
          "PhD",
          "PhD",
          "PhD",
          "PhD",
          "PhD",
          "PhD",
          "PhD",
          "PhD",
          "PhD",
          "PhD",
          "PhD",
          "PhD",
          "PhD",
          "PhD",
          "PhD",
          "PhD",
          "PhD",
          "PhD",
          "PhD",
          "PhD",
          "PhD",
          "PhD",
          "PhD",
          "PhD",
          "PhD",
          "PhD",
          "PhD",
          "PhD",
          "PhD",
          "PhD",
          "PhD",
          "PhD",
          "PhD",
          "PhD",
          "PhD",
          "PhD",
          "PhD",
          "PhD",
          "PhD",
          "PhD",
          "PhD",
          "PhD",
          "PhD",
          "PhD",
          "PhD",
          "PhD",
          "PhD",
          "PhD",
          "PhD",
          "PhD",
          "PhD",
          "PhD",
          "PhD",
          "PhD",
          "PhD",
          "PhD",
          "PhD",
          "PhD",
          "PhD",
          "PhD",
          "PhD",
          "PhD",
          "PhD",
          "PhD",
          "PhD",
          "PhD",
          "PhD",
          "PhD",
          "PhD",
          "PhD",
          "PhD",
          "PhD",
          "PhD",
          "PhD",
          "PhD",
          "PhD",
          "PhD",
          "PhD",
          "PhD",
          "PhD",
          "PhD",
          "PhD",
          "PhD",
          "PhD",
          "PhD",
          "PhD",
          "PhD",
          "PhD",
          "PhD",
          "PhD",
          "PhD",
          "PhD",
          "PhD",
          "PhD",
          "PhD",
          "PhD",
          "PhD",
          "PhD",
          "PhD",
          "PhD",
          "PhD",
          "PhD",
          "PhD",
          "PhD",
          "PhD",
          "PhD",
          "PhD",
          "PhD",
          "PhD",
          "PhD",
          "PhD",
          "PhD",
          "PhD",
          "PhD",
          "PhD",
          "PhD",
          "PhD",
          "PhD",
          "PhD",
          "PhD",
          "PhD",
          "PhD",
          "PhD",
          "PhD",
          "PhD",
          "PhD",
          "PhD",
          "PhD",
          "PhD",
          "PhD",
          "PhD",
          "PhD",
          "PhD",
          "PhD",
          "PhD",
          "PhD",
          "PhD",
          "PhD",
          "PhD",
          "PhD",
          "PhD",
          "PhD",
          "PhD",
          "PhD",
          "PhD",
          "PhD",
          "PhD",
          "PhD",
          "PhD",
          "PhD",
          "PhD",
          "PhD",
          "PhD",
          "PhD",
          "PhD",
          "PhD",
          "PhD",
          "PhD",
          "PhD",
          "PhD",
          "PhD",
          "PhD",
          "PhD",
          "PhD",
          "PhD",
          "PhD",
          "PhD",
          "PhD",
          "PhD",
          "PhD",
          "PhD",
          "PhD",
          "PhD",
          "PhD",
          "PhD",
          "PhD",
          "PhD",
          "PhD",
          "PhD",
          "PhD",
          "PhD",
          "PhD",
          "PhD",
          "PhD",
          "PhD",
          "PhD",
          "PhD",
          "PhD",
          "PhD",
          "PhD",
          "PhD",
          "PhD",
          "PhD",
          "PhD",
          "PhD",
          "PhD",
          "PhD",
          "PhD",
          "PhD",
          "PhD",
          "PhD",
          "PhD",
          "PhD",
          "PhD",
          "PhD",
          "PhD",
          "PhD",
          "PhD",
          "PhD",
          "PhD",
          "PhD",
          "PhD",
          "PhD",
          "PhD",
          "PhD",
          "PhD",
          "PhD",
          "PhD",
          "PhD",
          "PhD",
          "PhD",
          "PhD",
          "PhD",
          "PhD",
          "PhD",
          "PhD",
          "PhD",
          "PhD",
          "PhD",
          "PhD",
          "PhD",
          "PhD",
          "PhD",
          "PhD",
          "PhD",
          "PhD",
          "PhD"
         ],
         "xaxis": "x",
         "yaxis": "y"
        },
        {
         "alignmentgroup": "True",
         "bingroup": "x",
         "hovertemplate": "Education=%{x}<br>count=%{y}<extra></extra>",
         "legendgroup": "Master",
         "marker": {
          "color": "#00cc96",
          "pattern": {
           "shape": ""
          }
         },
         "name": "Master",
         "offsetgroup": "Master",
         "orientation": "v",
         "showlegend": true,
         "type": "histogram",
         "x": [
          "Master",
          "Master",
          "Master",
          "Master",
          "Master",
          "Master",
          "Master",
          "Master",
          "Master",
          "Master",
          "Master",
          "Master",
          "Master",
          "Master",
          "Master",
          "Master",
          "Master",
          "Master",
          "Master",
          "Master",
          "Master",
          "Master",
          "Master",
          "Master",
          "Master",
          "Master",
          "Master",
          "Master",
          "Master",
          "Master",
          "Master",
          "Master",
          "Master",
          "Master",
          "Master",
          "Master",
          "Master",
          "Master",
          "Master",
          "Master",
          "Master",
          "Master",
          "Master",
          "Master",
          "Master",
          "Master",
          "Master",
          "Master",
          "Master",
          "Master",
          "Master",
          "Master",
          "Master",
          "Master",
          "Master",
          "Master",
          "Master",
          "Master",
          "Master",
          "Master",
          "Master",
          "Master",
          "Master",
          "Master",
          "Master",
          "Master",
          "Master",
          "Master",
          "Master",
          "Master",
          "Master",
          "Master",
          "Master",
          "Master",
          "Master",
          "Master",
          "Master",
          "Master",
          "Master",
          "Master",
          "Master",
          "Master",
          "Master",
          "Master",
          "Master",
          "Master",
          "Master",
          "Master",
          "Master",
          "Master",
          "Master",
          "Master",
          "Master",
          "Master",
          "Master",
          "Master",
          "Master",
          "Master",
          "Master",
          "Master",
          "Master",
          "Master",
          "Master",
          "Master",
          "Master",
          "Master",
          "Master",
          "Master",
          "Master",
          "Master",
          "Master",
          "Master",
          "Master",
          "Master",
          "Master",
          "Master",
          "Master",
          "Master",
          "Master",
          "Master",
          "Master",
          "Master",
          "Master",
          "Master",
          "Master",
          "Master",
          "Master",
          "Master",
          "Master",
          "Master",
          "Master",
          "Master",
          "Master",
          "Master",
          "Master",
          "Master",
          "Master",
          "Master",
          "Master",
          "Master",
          "Master",
          "Master",
          "Master",
          "Master",
          "Master",
          "Master",
          "Master",
          "Master",
          "Master",
          "Master",
          "Master",
          "Master",
          "Master",
          "Master",
          "Master",
          "Master",
          "Master",
          "Master",
          "Master",
          "Master",
          "Master",
          "Master",
          "Master",
          "Master",
          "Master",
          "Master",
          "Master",
          "Master",
          "Master",
          "Master",
          "Master",
          "Master",
          "Master",
          "Master",
          "Master",
          "Master",
          "Master",
          "Master",
          "Master",
          "Master",
          "Master",
          "Master",
          "Master",
          "Master",
          "Master",
          "Master",
          "Master",
          "Master",
          "Master",
          "Master",
          "Master",
          "Master",
          "Master",
          "Master",
          "Master",
          "Master",
          "Master",
          "Master",
          "Master",
          "Master",
          "Master",
          "Master",
          "Master",
          "Master",
          "Master",
          "Master",
          "Master",
          "Master",
          "Master",
          "Master",
          "Master",
          "Master",
          "Master",
          "Master",
          "Master",
          "Master",
          "Master",
          "Master",
          "Master",
          "Master",
          "Master",
          "Master",
          "Master",
          "Master",
          "Master",
          "Master",
          "Master",
          "Master",
          "Master",
          "Master",
          "Master",
          "Master",
          "Master",
          "Master",
          "Master",
          "Master",
          "Master",
          "Master",
          "Master",
          "Master",
          "Master",
          "Master",
          "Master",
          "Master",
          "Master",
          "Master",
          "Master",
          "Master",
          "Master",
          "Master",
          "Master",
          "Master",
          "Master",
          "Master",
          "Master",
          "Master",
          "Master",
          "Master",
          "Master",
          "Master",
          "Master",
          "Master",
          "Master",
          "Master",
          "Master",
          "Master",
          "Master",
          "Master",
          "Master",
          "Master",
          "Master",
          "Master",
          "Master",
          "Master",
          "Master",
          "Master",
          "Master",
          "Master",
          "Master",
          "Master",
          "Master",
          "Master",
          "Master",
          "Master",
          "Master",
          "Master",
          "Master",
          "Master",
          "Master",
          "Master",
          "Master",
          "Master",
          "Master",
          "Master",
          "Master",
          "Master",
          "Master",
          "Master",
          "Master",
          "Master",
          "Master",
          "Master",
          "Master",
          "Master",
          "Master",
          "Master",
          "Master",
          "Master",
          "Master",
          "Master",
          "Master",
          "Master",
          "Master",
          "Master",
          "Master",
          "Master",
          "Master",
          "Master",
          "Master",
          "Master",
          "Master",
          "Master",
          "Master",
          "Master",
          "Master",
          "Master",
          "Master",
          "Master",
          "Master",
          "Master",
          "Master",
          "Master",
          "Master",
          "Master",
          "Master",
          "Master",
          "Master",
          "Master",
          "Master",
          "Master",
          "Master",
          "Master",
          "Master",
          "Master",
          "Master",
          "Master",
          "Master",
          "Master",
          "Master",
          "Master",
          "Master",
          "Master",
          "Master",
          "Master",
          "Master",
          "Master",
          "Master",
          "Master",
          "Master",
          "Master",
          "Master",
          "Master",
          "Master",
          "Master",
          "Master"
         ],
         "xaxis": "x",
         "yaxis": "y"
        },
        {
         "alignmentgroup": "True",
         "bingroup": "x",
         "hovertemplate": "Education=%{x}<br>count=%{y}<extra></extra>",
         "legendgroup": "Basic",
         "marker": {
          "color": "#ab63fa",
          "pattern": {
           "shape": ""
          }
         },
         "name": "Basic",
         "offsetgroup": "Basic",
         "orientation": "v",
         "showlegend": true,
         "type": "histogram",
         "x": [
          "Basic",
          "Basic",
          "Basic",
          "Basic",
          "Basic",
          "Basic",
          "Basic",
          "Basic",
          "Basic",
          "Basic",
          "Basic",
          "Basic",
          "Basic",
          "Basic",
          "Basic",
          "Basic",
          "Basic",
          "Basic",
          "Basic",
          "Basic",
          "Basic",
          "Basic",
          "Basic",
          "Basic",
          "Basic",
          "Basic",
          "Basic",
          "Basic",
          "Basic",
          "Basic",
          "Basic",
          "Basic",
          "Basic",
          "Basic",
          "Basic",
          "Basic",
          "Basic",
          "Basic",
          "Basic",
          "Basic",
          "Basic",
          "Basic",
          "Basic",
          "Basic",
          "Basic",
          "Basic",
          "Basic",
          "Basic",
          "Basic",
          "Basic",
          "Basic",
          "Basic",
          "Basic",
          "Basic"
         ],
         "xaxis": "x",
         "yaxis": "y"
        },
        {
         "alignmentgroup": "True",
         "bingroup": "x",
         "hovertemplate": "Education=%{x}<br>count=%{y}<extra></extra>",
         "legendgroup": "2n Cycle",
         "marker": {
          "color": "#FFA15A",
          "pattern": {
           "shape": ""
          }
         },
         "name": "2n Cycle",
         "offsetgroup": "2n Cycle",
         "orientation": "v",
         "showlegend": true,
         "type": "histogram",
         "x": [
          "2n Cycle",
          "2n Cycle",
          "2n Cycle",
          "2n Cycle",
          "2n Cycle",
          "2n Cycle",
          "2n Cycle",
          "2n Cycle",
          "2n Cycle",
          "2n Cycle",
          "2n Cycle",
          "2n Cycle",
          "2n Cycle",
          "2n Cycle",
          "2n Cycle",
          "2n Cycle",
          "2n Cycle",
          "2n Cycle",
          "2n Cycle",
          "2n Cycle",
          "2n Cycle",
          "2n Cycle",
          "2n Cycle",
          "2n Cycle",
          "2n Cycle",
          "2n Cycle",
          "2n Cycle",
          "2n Cycle",
          "2n Cycle",
          "2n Cycle",
          "2n Cycle",
          "2n Cycle",
          "2n Cycle",
          "2n Cycle",
          "2n Cycle",
          "2n Cycle",
          "2n Cycle",
          "2n Cycle",
          "2n Cycle",
          "2n Cycle",
          "2n Cycle",
          "2n Cycle",
          "2n Cycle",
          "2n Cycle",
          "2n Cycle",
          "2n Cycle",
          "2n Cycle",
          "2n Cycle",
          "2n Cycle",
          "2n Cycle",
          "2n Cycle",
          "2n Cycle",
          "2n Cycle",
          "2n Cycle",
          "2n Cycle",
          "2n Cycle",
          "2n Cycle",
          "2n Cycle",
          "2n Cycle",
          "2n Cycle",
          "2n Cycle",
          "2n Cycle",
          "2n Cycle",
          "2n Cycle",
          "2n Cycle",
          "2n Cycle",
          "2n Cycle",
          "2n Cycle",
          "2n Cycle",
          "2n Cycle",
          "2n Cycle",
          "2n Cycle",
          "2n Cycle",
          "2n Cycle",
          "2n Cycle",
          "2n Cycle",
          "2n Cycle",
          "2n Cycle",
          "2n Cycle",
          "2n Cycle",
          "2n Cycle",
          "2n Cycle",
          "2n Cycle",
          "2n Cycle",
          "2n Cycle",
          "2n Cycle",
          "2n Cycle",
          "2n Cycle",
          "2n Cycle",
          "2n Cycle",
          "2n Cycle",
          "2n Cycle",
          "2n Cycle",
          "2n Cycle",
          "2n Cycle",
          "2n Cycle",
          "2n Cycle",
          "2n Cycle",
          "2n Cycle",
          "2n Cycle",
          "2n Cycle",
          "2n Cycle",
          "2n Cycle",
          "2n Cycle",
          "2n Cycle",
          "2n Cycle",
          "2n Cycle",
          "2n Cycle",
          "2n Cycle",
          "2n Cycle",
          "2n Cycle",
          "2n Cycle",
          "2n Cycle",
          "2n Cycle",
          "2n Cycle",
          "2n Cycle",
          "2n Cycle",
          "2n Cycle",
          "2n Cycle",
          "2n Cycle",
          "2n Cycle",
          "2n Cycle",
          "2n Cycle",
          "2n Cycle",
          "2n Cycle",
          "2n Cycle",
          "2n Cycle",
          "2n Cycle",
          "2n Cycle",
          "2n Cycle",
          "2n Cycle",
          "2n Cycle",
          "2n Cycle",
          "2n Cycle",
          "2n Cycle",
          "2n Cycle",
          "2n Cycle",
          "2n Cycle",
          "2n Cycle",
          "2n Cycle",
          "2n Cycle",
          "2n Cycle",
          "2n Cycle",
          "2n Cycle",
          "2n Cycle",
          "2n Cycle",
          "2n Cycle",
          "2n Cycle",
          "2n Cycle",
          "2n Cycle",
          "2n Cycle",
          "2n Cycle",
          "2n Cycle",
          "2n Cycle",
          "2n Cycle",
          "2n Cycle",
          "2n Cycle",
          "2n Cycle",
          "2n Cycle",
          "2n Cycle",
          "2n Cycle",
          "2n Cycle",
          "2n Cycle",
          "2n Cycle",
          "2n Cycle",
          "2n Cycle",
          "2n Cycle",
          "2n Cycle",
          "2n Cycle",
          "2n Cycle",
          "2n Cycle",
          "2n Cycle",
          "2n Cycle",
          "2n Cycle",
          "2n Cycle",
          "2n Cycle",
          "2n Cycle",
          "2n Cycle",
          "2n Cycle",
          "2n Cycle",
          "2n Cycle",
          "2n Cycle",
          "2n Cycle",
          "2n Cycle",
          "2n Cycle",
          "2n Cycle",
          "2n Cycle",
          "2n Cycle",
          "2n Cycle",
          "2n Cycle",
          "2n Cycle",
          "2n Cycle",
          "2n Cycle",
          "2n Cycle",
          "2n Cycle",
          "2n Cycle",
          "2n Cycle",
          "2n Cycle"
         ],
         "xaxis": "x",
         "yaxis": "y"
        }
       ],
       "layout": {
        "barmode": "relative",
        "legend": {
         "title": {
          "text": "Education"
         },
         "tracegroupgap": 0
        },
        "margin": {
         "t": 60
        },
        "template": {
         "data": {
          "bar": [
           {
            "error_x": {
             "color": "#2a3f5f"
            },
            "error_y": {
             "color": "#2a3f5f"
            },
            "marker": {
             "line": {
              "color": "#E5ECF6",
              "width": 0.5
             },
             "pattern": {
              "fillmode": "overlay",
              "size": 10,
              "solidity": 0.2
             }
            },
            "type": "bar"
           }
          ],
          "barpolar": [
           {
            "marker": {
             "line": {
              "color": "#E5ECF6",
              "width": 0.5
             },
             "pattern": {
              "fillmode": "overlay",
              "size": 10,
              "solidity": 0.2
             }
            },
            "type": "barpolar"
           }
          ],
          "carpet": [
           {
            "aaxis": {
             "endlinecolor": "#2a3f5f",
             "gridcolor": "white",
             "linecolor": "white",
             "minorgridcolor": "white",
             "startlinecolor": "#2a3f5f"
            },
            "baxis": {
             "endlinecolor": "#2a3f5f",
             "gridcolor": "white",
             "linecolor": "white",
             "minorgridcolor": "white",
             "startlinecolor": "#2a3f5f"
            },
            "type": "carpet"
           }
          ],
          "choropleth": [
           {
            "colorbar": {
             "outlinewidth": 0,
             "ticks": ""
            },
            "type": "choropleth"
           }
          ],
          "contour": [
           {
            "colorbar": {
             "outlinewidth": 0,
             "ticks": ""
            },
            "colorscale": [
             [
              0,
              "#0d0887"
             ],
             [
              0.1111111111111111,
              "#46039f"
             ],
             [
              0.2222222222222222,
              "#7201a8"
             ],
             [
              0.3333333333333333,
              "#9c179e"
             ],
             [
              0.4444444444444444,
              "#bd3786"
             ],
             [
              0.5555555555555556,
              "#d8576b"
             ],
             [
              0.6666666666666666,
              "#ed7953"
             ],
             [
              0.7777777777777778,
              "#fb9f3a"
             ],
             [
              0.8888888888888888,
              "#fdca26"
             ],
             [
              1,
              "#f0f921"
             ]
            ],
            "type": "contour"
           }
          ],
          "contourcarpet": [
           {
            "colorbar": {
             "outlinewidth": 0,
             "ticks": ""
            },
            "type": "contourcarpet"
           }
          ],
          "heatmap": [
           {
            "colorbar": {
             "outlinewidth": 0,
             "ticks": ""
            },
            "colorscale": [
             [
              0,
              "#0d0887"
             ],
             [
              0.1111111111111111,
              "#46039f"
             ],
             [
              0.2222222222222222,
              "#7201a8"
             ],
             [
              0.3333333333333333,
              "#9c179e"
             ],
             [
              0.4444444444444444,
              "#bd3786"
             ],
             [
              0.5555555555555556,
              "#d8576b"
             ],
             [
              0.6666666666666666,
              "#ed7953"
             ],
             [
              0.7777777777777778,
              "#fb9f3a"
             ],
             [
              0.8888888888888888,
              "#fdca26"
             ],
             [
              1,
              "#f0f921"
             ]
            ],
            "type": "heatmap"
           }
          ],
          "heatmapgl": [
           {
            "colorbar": {
             "outlinewidth": 0,
             "ticks": ""
            },
            "colorscale": [
             [
              0,
              "#0d0887"
             ],
             [
              0.1111111111111111,
              "#46039f"
             ],
             [
              0.2222222222222222,
              "#7201a8"
             ],
             [
              0.3333333333333333,
              "#9c179e"
             ],
             [
              0.4444444444444444,
              "#bd3786"
             ],
             [
              0.5555555555555556,
              "#d8576b"
             ],
             [
              0.6666666666666666,
              "#ed7953"
             ],
             [
              0.7777777777777778,
              "#fb9f3a"
             ],
             [
              0.8888888888888888,
              "#fdca26"
             ],
             [
              1,
              "#f0f921"
             ]
            ],
            "type": "heatmapgl"
           }
          ],
          "histogram": [
           {
            "marker": {
             "pattern": {
              "fillmode": "overlay",
              "size": 10,
              "solidity": 0.2
             }
            },
            "type": "histogram"
           }
          ],
          "histogram2d": [
           {
            "colorbar": {
             "outlinewidth": 0,
             "ticks": ""
            },
            "colorscale": [
             [
              0,
              "#0d0887"
             ],
             [
              0.1111111111111111,
              "#46039f"
             ],
             [
              0.2222222222222222,
              "#7201a8"
             ],
             [
              0.3333333333333333,
              "#9c179e"
             ],
             [
              0.4444444444444444,
              "#bd3786"
             ],
             [
              0.5555555555555556,
              "#d8576b"
             ],
             [
              0.6666666666666666,
              "#ed7953"
             ],
             [
              0.7777777777777778,
              "#fb9f3a"
             ],
             [
              0.8888888888888888,
              "#fdca26"
             ],
             [
              1,
              "#f0f921"
             ]
            ],
            "type": "histogram2d"
           }
          ],
          "histogram2dcontour": [
           {
            "colorbar": {
             "outlinewidth": 0,
             "ticks": ""
            },
            "colorscale": [
             [
              0,
              "#0d0887"
             ],
             [
              0.1111111111111111,
              "#46039f"
             ],
             [
              0.2222222222222222,
              "#7201a8"
             ],
             [
              0.3333333333333333,
              "#9c179e"
             ],
             [
              0.4444444444444444,
              "#bd3786"
             ],
             [
              0.5555555555555556,
              "#d8576b"
             ],
             [
              0.6666666666666666,
              "#ed7953"
             ],
             [
              0.7777777777777778,
              "#fb9f3a"
             ],
             [
              0.8888888888888888,
              "#fdca26"
             ],
             [
              1,
              "#f0f921"
             ]
            ],
            "type": "histogram2dcontour"
           }
          ],
          "mesh3d": [
           {
            "colorbar": {
             "outlinewidth": 0,
             "ticks": ""
            },
            "type": "mesh3d"
           }
          ],
          "parcoords": [
           {
            "line": {
             "colorbar": {
              "outlinewidth": 0,
              "ticks": ""
             }
            },
            "type": "parcoords"
           }
          ],
          "pie": [
           {
            "automargin": true,
            "type": "pie"
           }
          ],
          "scatter": [
           {
            "marker": {
             "colorbar": {
              "outlinewidth": 0,
              "ticks": ""
             }
            },
            "type": "scatter"
           }
          ],
          "scatter3d": [
           {
            "line": {
             "colorbar": {
              "outlinewidth": 0,
              "ticks": ""
             }
            },
            "marker": {
             "colorbar": {
              "outlinewidth": 0,
              "ticks": ""
             }
            },
            "type": "scatter3d"
           }
          ],
          "scattercarpet": [
           {
            "marker": {
             "colorbar": {
              "outlinewidth": 0,
              "ticks": ""
             }
            },
            "type": "scattercarpet"
           }
          ],
          "scattergeo": [
           {
            "marker": {
             "colorbar": {
              "outlinewidth": 0,
              "ticks": ""
             }
            },
            "type": "scattergeo"
           }
          ],
          "scattergl": [
           {
            "marker": {
             "colorbar": {
              "outlinewidth": 0,
              "ticks": ""
             }
            },
            "type": "scattergl"
           }
          ],
          "scattermapbox": [
           {
            "marker": {
             "colorbar": {
              "outlinewidth": 0,
              "ticks": ""
             }
            },
            "type": "scattermapbox"
           }
          ],
          "scatterpolar": [
           {
            "marker": {
             "colorbar": {
              "outlinewidth": 0,
              "ticks": ""
             }
            },
            "type": "scatterpolar"
           }
          ],
          "scatterpolargl": [
           {
            "marker": {
             "colorbar": {
              "outlinewidth": 0,
              "ticks": ""
             }
            },
            "type": "scatterpolargl"
           }
          ],
          "scatterternary": [
           {
            "marker": {
             "colorbar": {
              "outlinewidth": 0,
              "ticks": ""
             }
            },
            "type": "scatterternary"
           }
          ],
          "surface": [
           {
            "colorbar": {
             "outlinewidth": 0,
             "ticks": ""
            },
            "colorscale": [
             [
              0,
              "#0d0887"
             ],
             [
              0.1111111111111111,
              "#46039f"
             ],
             [
              0.2222222222222222,
              "#7201a8"
             ],
             [
              0.3333333333333333,
              "#9c179e"
             ],
             [
              0.4444444444444444,
              "#bd3786"
             ],
             [
              0.5555555555555556,
              "#d8576b"
             ],
             [
              0.6666666666666666,
              "#ed7953"
             ],
             [
              0.7777777777777778,
              "#fb9f3a"
             ],
             [
              0.8888888888888888,
              "#fdca26"
             ],
             [
              1,
              "#f0f921"
             ]
            ],
            "type": "surface"
           }
          ],
          "table": [
           {
            "cells": {
             "fill": {
              "color": "#EBF0F8"
             },
             "line": {
              "color": "white"
             }
            },
            "header": {
             "fill": {
              "color": "#C8D4E3"
             },
             "line": {
              "color": "white"
             }
            },
            "type": "table"
           }
          ]
         },
         "layout": {
          "annotationdefaults": {
           "arrowcolor": "#2a3f5f",
           "arrowhead": 0,
           "arrowwidth": 1
          },
          "autotypenumbers": "strict",
          "coloraxis": {
           "colorbar": {
            "outlinewidth": 0,
            "ticks": ""
           }
          },
          "colorscale": {
           "diverging": [
            [
             0,
             "#8e0152"
            ],
            [
             0.1,
             "#c51b7d"
            ],
            [
             0.2,
             "#de77ae"
            ],
            [
             0.3,
             "#f1b6da"
            ],
            [
             0.4,
             "#fde0ef"
            ],
            [
             0.5,
             "#f7f7f7"
            ],
            [
             0.6,
             "#e6f5d0"
            ],
            [
             0.7,
             "#b8e186"
            ],
            [
             0.8,
             "#7fbc41"
            ],
            [
             0.9,
             "#4d9221"
            ],
            [
             1,
             "#276419"
            ]
           ],
           "sequential": [
            [
             0,
             "#0d0887"
            ],
            [
             0.1111111111111111,
             "#46039f"
            ],
            [
             0.2222222222222222,
             "#7201a8"
            ],
            [
             0.3333333333333333,
             "#9c179e"
            ],
            [
             0.4444444444444444,
             "#bd3786"
            ],
            [
             0.5555555555555556,
             "#d8576b"
            ],
            [
             0.6666666666666666,
             "#ed7953"
            ],
            [
             0.7777777777777778,
             "#fb9f3a"
            ],
            [
             0.8888888888888888,
             "#fdca26"
            ],
            [
             1,
             "#f0f921"
            ]
           ],
           "sequentialminus": [
            [
             0,
             "#0d0887"
            ],
            [
             0.1111111111111111,
             "#46039f"
            ],
            [
             0.2222222222222222,
             "#7201a8"
            ],
            [
             0.3333333333333333,
             "#9c179e"
            ],
            [
             0.4444444444444444,
             "#bd3786"
            ],
            [
             0.5555555555555556,
             "#d8576b"
            ],
            [
             0.6666666666666666,
             "#ed7953"
            ],
            [
             0.7777777777777778,
             "#fb9f3a"
            ],
            [
             0.8888888888888888,
             "#fdca26"
            ],
            [
             1,
             "#f0f921"
            ]
           ]
          },
          "colorway": [
           "#636efa",
           "#EF553B",
           "#00cc96",
           "#ab63fa",
           "#FFA15A",
           "#19d3f3",
           "#FF6692",
           "#B6E880",
           "#FF97FF",
           "#FECB52"
          ],
          "font": {
           "color": "#2a3f5f"
          },
          "geo": {
           "bgcolor": "white",
           "lakecolor": "white",
           "landcolor": "#E5ECF6",
           "showlakes": true,
           "showland": true,
           "subunitcolor": "white"
          },
          "hoverlabel": {
           "align": "left"
          },
          "hovermode": "closest",
          "mapbox": {
           "style": "light"
          },
          "paper_bgcolor": "white",
          "plot_bgcolor": "#E5ECF6",
          "polar": {
           "angularaxis": {
            "gridcolor": "white",
            "linecolor": "white",
            "ticks": ""
           },
           "bgcolor": "#E5ECF6",
           "radialaxis": {
            "gridcolor": "white",
            "linecolor": "white",
            "ticks": ""
           }
          },
          "scene": {
           "xaxis": {
            "backgroundcolor": "#E5ECF6",
            "gridcolor": "white",
            "gridwidth": 2,
            "linecolor": "white",
            "showbackground": true,
            "ticks": "",
            "zerolinecolor": "white"
           },
           "yaxis": {
            "backgroundcolor": "#E5ECF6",
            "gridcolor": "white",
            "gridwidth": 2,
            "linecolor": "white",
            "showbackground": true,
            "ticks": "",
            "zerolinecolor": "white"
           },
           "zaxis": {
            "backgroundcolor": "#E5ECF6",
            "gridcolor": "white",
            "gridwidth": 2,
            "linecolor": "white",
            "showbackground": true,
            "ticks": "",
            "zerolinecolor": "white"
           }
          },
          "shapedefaults": {
           "line": {
            "color": "#2a3f5f"
           }
          },
          "ternary": {
           "aaxis": {
            "gridcolor": "white",
            "linecolor": "white",
            "ticks": ""
           },
           "baxis": {
            "gridcolor": "white",
            "linecolor": "white",
            "ticks": ""
           },
           "bgcolor": "#E5ECF6",
           "caxis": {
            "gridcolor": "white",
            "linecolor": "white",
            "ticks": ""
           }
          },
          "title": {
           "x": 0.05
          },
          "xaxis": {
           "automargin": true,
           "gridcolor": "white",
           "linecolor": "white",
           "ticks": "",
           "title": {
            "standoff": 15
           },
           "zerolinecolor": "white",
           "zerolinewidth": 2
          },
          "yaxis": {
           "automargin": true,
           "gridcolor": "white",
           "linecolor": "white",
           "ticks": "",
           "title": {
            "standoff": 15
           },
           "zerolinecolor": "white",
           "zerolinewidth": 2
          }
         }
        },
        "xaxis": {
         "anchor": "y",
         "categoryarray": [
          "Graduation",
          "PhD",
          "Master",
          "Basic",
          "2n Cycle"
         ],
         "categoryorder": "array",
         "domain": [
          0,
          1
         ],
         "title": {
          "text": "Education"
         }
        },
        "yaxis": {
         "anchor": "x",
         "domain": [
          0,
          1
         ],
         "title": {
          "text": "count"
         }
        }
       }
      }
     },
     "metadata": {},
     "output_type": "display_data"
    }
   ],
   "source": [
    "px.histogram(df, x='Education', color='Education')"
   ]
  },
  {
   "cell_type": "code",
   "execution_count": 5,
   "metadata": {},
   "outputs": [
    {
     "data": {
      "text/plain": [
       "<AxesSubplot:xlabel='Living_With', ylabel='count'>"
      ]
     },
     "execution_count": 5,
     "metadata": {},
     "output_type": "execute_result"
    },
    {
     "data": {
      "image/png": "[encoded data removed]",
      "text/plain": [
       "<Figure size 432x288 with 1 Axes>"
      ]
     },
     "metadata": {
      "needs_background": "light"
     },
     "output_type": "display_data"
    }
   ],
   "source": [
    "sns.countplot(x=df['Living_With'], palette='pastel')"
   ]
  },
  {
   "cell_type": "code",
   "execution_count": 6,
   "metadata": {},
   "outputs": [
    {
     "data": {
      "image/png": "[encoded data removed]",
      "text/plain": [
       "<Figure size 432x288 with 1 Axes>"
      ]
     },
     "metadata": {
      "needs_background": "light"
     },
     "output_type": "display_data"
    }
   ],
   "source": [
    "sns.histplot(df['Income'], kde=True, color='seagreen');"
   ]
  },
  {
   "cell_type": "code",
   "execution_count": 7,
   "metadata": {},
   "outputs": [
    {
     "data": {
      "application/vnd.plotly.v1+json": {
       "config": {
        "plotlyServerURL": "https://plot.ly"
       },
       "data": [
        {
         "branchvalues": "total",
         "domain": {
          "x": [
           0,
           1
          ],
          "y": [
           0,
           1
          ]
         },
         "hovertemplate": "labels=%{label}<br>count=%{value}<br>parent=%{parent}<br>id=%{id}<extra></extra>",
         "ids": [
          "Alone/2n Cycle",
          "Partner/2n Cycle",
          "Alone/Basic",
          "Partner/Basic",
          "Alone/Graduation",
          "Partner/Graduation",
          "Alone/Master",
          "Partner/Master",
          "Alone/PhD",
          "Partner/PhD",
          "Alone",
          "Partner"
         ],
         "labels": [
          "2n Cycle",
          "2n Cycle",
          "Basic",
          "Basic",
          "Graduation",
          "Graduation",
          "Master",
          "Master",
          "PhD",
          "PhD",
          "Alone",
          "Partner"
         ],
         "name": "",
         "parents": [
          "Alone",
          "Partner",
          "Alone",
          "Partner",
          "Alone",
          "Partner",
          "Alone",
          "Partner",
          "Alone",
          "Partner",
          "",
          ""
         ],
         "type": "sunburst",
         "values": [
          62,
          136,
          20,
          34,
          402,
          713,
          125,
          240,
          175,
          305,
          784,
          1428
         ]
        }
       ],
       "layout": {
        "legend": {
         "tracegroupgap": 0
        },
        "margin": {
         "t": 60
        },
        "template": {
         "data": {
          "bar": [
           {
            "error_x": {
             "color": "#2a3f5f"
            },
            "error_y": {
             "color": "#2a3f5f"
            },
            "marker": {
             "line": {
              "color": "#E5ECF6",
              "width": 0.5
             },
             "pattern": {
              "fillmode": "overlay",
              "size": 10,
              "solidity": 0.2
             }
            },
            "type": "bar"
           }
          ],
          "barpolar": [
           {
            "marker": {
             "line": {
              "color": "#E5ECF6",
              "width": 0.5
             },
             "pattern": {
              "fillmode": "overlay",
              "size": 10,
              "solidity": 0.2
             }
            },
            "type": "barpolar"
           }
          ],
          "carpet": [
           {
            "aaxis": {
             "endlinecolor": "#2a3f5f",
             "gridcolor": "white",
             "linecolor": "white",
             "minorgridcolor": "white",
             "startlinecolor": "#2a3f5f"
            },
            "baxis": {
             "endlinecolor": "#2a3f5f",
             "gridcolor": "white",
             "linecolor": "white",
             "minorgridcolor": "white",
             "startlinecolor": "#2a3f5f"
            },
            "type": "carpet"
           }
          ],
          "choropleth": [
           {
            "colorbar": {
             "outlinewidth": 0,
             "ticks": ""
            },
            "type": "choropleth"
           }
          ],
          "contour": [
           {
            "colorbar": {
             "outlinewidth": 0,
             "ticks": ""
            },
            "colorscale": [
             [
              0,
              "#0d0887"
             ],
             [
              0.1111111111111111,
              "#46039f"
             ],
             [
              0.2222222222222222,
              "#7201a8"
             ],
             [
              0.3333333333333333,
              "#9c179e"
             ],
             [
              0.4444444444444444,
              "#bd3786"
             ],
             [
              0.5555555555555556,
              "#d8576b"
             ],
             [
              0.6666666666666666,
              "#ed7953"
             ],
             [
              0.7777777777777778,
              "#fb9f3a"
             ],
             [
              0.8888888888888888,
              "#fdca26"
             ],
             [
              1,
              "#f0f921"
             ]
            ],
            "type": "contour"
           }
          ],
          "contourcarpet": [
           {
            "colorbar": {
             "outlinewidth": 0,
             "ticks": ""
            },
            "type": "contourcarpet"
           }
          ],
          "heatmap": [
           {
            "colorbar": {
             "outlinewidth": 0,
             "ticks": ""
            },
            "colorscale": [
             [
              0,
              "#0d0887"
             ],
             [
              0.1111111111111111,
              "#46039f"
             ],
             [
              0.2222222222222222,
              "#7201a8"
             ],
             [
              0.3333333333333333,
              "#9c179e"
             ],
             [
              0.4444444444444444,
              "#bd3786"
             ],
             [
              0.5555555555555556,
              "#d8576b"
             ],
             [
              0.6666666666666666,
              "#ed7953"
             ],
             [
              0.7777777777777778,
              "#fb9f3a"
             ],
             [
              0.8888888888888888,
              "#fdca26"
             ],
             [
              1,
              "#f0f921"
             ]
            ],
            "type": "heatmap"
           }
          ],
          "heatmapgl": [
           {
            "colorbar": {
             "outlinewidth": 0,
             "ticks": ""
            },
            "colorscale": [
             [
              0,
              "#0d0887"
             ],
             [
              0.1111111111111111,
              "#46039f"
             ],
             [
              0.2222222222222222,
              "#7201a8"
             ],
             [
              0.3333333333333333,
              "#9c179e"
             ],
             [
              0.4444444444444444,
              "#bd3786"
             ],
             [
              0.5555555555555556,
              "#d8576b"
             ],
             [
              0.6666666666666666,
              "#ed7953"
             ],
             [
              0.7777777777777778,
              "#fb9f3a"
             ],
             [
              0.8888888888888888,
              "#fdca26"
             ],
             [
              1,
              "#f0f921"
             ]
            ],
            "type": "heatmapgl"
           }
          ],
          "histogram": [
           {
            "marker": {
             "pattern": {
              "fillmode": "overlay",
              "size": 10,
              "solidity": 0.2
             }
            },
            "type": "histogram"
           }
          ],
          "histogram2d": [
           {
            "colorbar": {
             "outlinewidth": 0,
             "ticks": ""
            },
            "colorscale": [
             [
              0,
              "#0d0887"
             ],
             [
              0.1111111111111111,
              "#46039f"
             ],
             [
              0.2222222222222222,
              "#7201a8"
             ],
             [
              0.3333333333333333,
              "#9c179e"
             ],
             [
              0.4444444444444444,
              "#bd3786"
             ],
             [
              0.5555555555555556,
              "#d8576b"
             ],
             [
              0.6666666666666666,
              "#ed7953"
             ],
             [
              0.7777777777777778,
              "#fb9f3a"
             ],
             [
              0.8888888888888888,
              "#fdca26"
             ],
             [
              1,
              "#f0f921"
             ]
            ],
            "type": "histogram2d"
           }
          ],
          "histogram2dcontour": [
           {
            "colorbar": {
             "outlinewidth": 0,
             "ticks": ""
            },
            "colorscale": [
             [
              0,
              "#0d0887"
             ],
             [
              0.1111111111111111,
              "#46039f"
             ],
             [
              0.2222222222222222,
              "#7201a8"
             ],
             [
              0.3333333333333333,
              "#9c179e"
             ],
             [
              0.4444444444444444,
              "#bd3786"
             ],
             [
              0.5555555555555556,
              "#d8576b"
             ],
             [
              0.6666666666666666,
              "#ed7953"
             ],
             [
              0.7777777777777778,
              "#fb9f3a"
             ],
             [
              0.8888888888888888,
              "#fdca26"
             ],
             [
              1,
              "#f0f921"
             ]
            ],
            "type": "histogram2dcontour"
           }
          ],
          "mesh3d": [
           {
            "colorbar": {
             "outlinewidth": 0,
             "ticks": ""
            },
            "type": "mesh3d"
           }
          ],
          "parcoords": [
           {
            "line": {
             "colorbar": {
              "outlinewidth": 0,
              "ticks": ""
             }
            },
            "type": "parcoords"
           }
          ],
          "pie": [
           {
            "automargin": true,
            "type": "pie"
           }
          ],
          "scatter": [
           {
            "marker": {
             "colorbar": {
              "outlinewidth": 0,
              "ticks": ""
             }
            },
            "type": "scatter"
           }
          ],
          "scatter3d": [
           {
            "line": {
             "colorbar": {
              "outlinewidth": 0,
              "ticks": ""
             }
            },
            "marker": {
             "colorbar": {
              "outlinewidth": 0,
              "ticks": ""
             }
            },
            "type": "scatter3d"
           }
          ],
          "scattercarpet": [
           {
            "marker": {
             "colorbar": {
              "outlinewidth": 0,
              "ticks": ""
             }
            },
            "type": "scattercarpet"
           }
          ],
          "scattergeo": [
           {
            "marker": {
             "colorbar": {
              "outlinewidth": 0,
              "ticks": ""
             }
            },
            "type": "scattergeo"
           }
          ],
          "scattergl": [
           {
            "marker": {
             "colorbar": {
              "outlinewidth": 0,
              "ticks": ""
             }
            },
            "type": "scattergl"
           }
          ],
          "scattermapbox": [
           {
            "marker": {
             "colorbar": {
              "outlinewidth": 0,
              "ticks": ""
             }
            },
            "type": "scattermapbox"
           }
          ],
          "scatterpolar": [
           {
            "marker": {
             "colorbar": {
              "outlinewidth": 0,
              "ticks": ""
             }
            },
            "type": "scatterpolar"
           }
          ],
          "scatterpolargl": [
           {
            "marker": {
             "colorbar": {
              "outlinewidth": 0,
              "ticks": ""
             }
            },
            "type": "scatterpolargl"
           }
          ],
          "scatterternary": [
           {
            "marker": {
             "colorbar": {
              "outlinewidth": 0,
              "ticks": ""
             }
            },
            "type": "scatterternary"
           }
          ],
          "surface": [
           {
            "colorbar": {
             "outlinewidth": 0,
             "ticks": ""
            },
            "colorscale": [
             [
              0,
              "#0d0887"
             ],
             [
              0.1111111111111111,
              "#46039f"
             ],
             [
              0.2222222222222222,
              "#7201a8"
             ],
             [
              0.3333333333333333,
              "#9c179e"
             ],
             [
              0.4444444444444444,
              "#bd3786"
             ],
             [
              0.5555555555555556,
              "#d8576b"
             ],
             [
              0.6666666666666666,
              "#ed7953"
             ],
             [
              0.7777777777777778,
              "#fb9f3a"
             ],
             [
              0.8888888888888888,
              "#fdca26"
             ],
             [
              1,
              "#f0f921"
             ]
            ],
            "type": "surface"
           }
          ],
          "table": [
           {
            "cells": {
             "fill": {
              "color": "#EBF0F8"
             },
             "line": {
              "color": "white"
             }
            },
            "header": {
             "fill": {
              "color": "#C8D4E3"
             },
             "line": {
              "color": "white"
             }
            },
            "type": "table"
           }
          ]
         },
         "layout": {
          "annotationdefaults": {
           "arrowcolor": "#2a3f5f",
           "arrowhead": 0,
           "arrowwidth": 1
          },
          "autotypenumbers": "strict",
          "coloraxis": {
           "colorbar": {
            "outlinewidth": 0,
            "ticks": ""
           }
          },
          "colorscale": {
           "diverging": [
            [
             0,
             "#8e0152"
            ],
            [
             0.1,
             "#c51b7d"
            ],
            [
             0.2,
             "#de77ae"
            ],
            [
             0.3,
             "#f1b6da"
            ],
            [
             0.4,
             "#fde0ef"
            ],
            [
             0.5,
             "#f7f7f7"
            ],
            [
             0.6,
             "#e6f5d0"
            ],
            [
             0.7,
             "#b8e186"
            ],
            [
             0.8,
             "#7fbc41"
            ],
            [
             0.9,
             "#4d9221"
            ],
            [
             1,
             "#276419"
            ]
           ],
           "sequential": [
            [
             0,
             "#0d0887"
            ],
            [
             0.1111111111111111,
             "#46039f"
            ],
            [
             0.2222222222222222,
             "#7201a8"
            ],
            [
             0.3333333333333333,
             "#9c179e"
            ],
            [
             0.4444444444444444,
             "#bd3786"
            ],
            [
             0.5555555555555556,
             "#d8576b"
            ],
            [
             0.6666666666666666,
             "#ed7953"
            ],
            [
             0.7777777777777778,
             "#fb9f3a"
            ],
            [
             0.8888888888888888,
             "#fdca26"
            ],
            [
             1,
             "#f0f921"
            ]
           ],
           "sequentialminus": [
            [
             0,
             "#0d0887"
            ],
            [
             0.1111111111111111,
             "#46039f"
            ],
            [
             0.2222222222222222,
             "#7201a8"
            ],
            [
             0.3333333333333333,
             "#9c179e"
            ],
            [
             0.4444444444444444,
             "#bd3786"
            ],
            [
             0.5555555555555556,
             "#d8576b"
            ],
            [
             0.6666666666666666,
             "#ed7953"
            ],
            [
             0.7777777777777778,
             "#fb9f3a"
            ],
            [
             0.8888888888888888,
             "#fdca26"
            ],
            [
             1,
             "#f0f921"
            ]
           ]
          },
          "colorway": [
           "#636efa",
           "#EF553B",
           "#00cc96",
           "#ab63fa",
           "#FFA15A",
           "#19d3f3",
           "#FF6692",
           "#B6E880",
           "#FF97FF",
           "#FECB52"
          ],
          "font": {
           "color": "#2a3f5f"
          },
          "geo": {
           "bgcolor": "white",
           "lakecolor": "white",
           "landcolor": "#E5ECF6",
           "showlakes": true,
           "showland": true,
           "subunitcolor": "white"
          },
          "hoverlabel": {
           "align": "left"
          },
          "hovermode": "closest",
          "mapbox": {
           "style": "light"
          },
          "paper_bgcolor": "white",
          "plot_bgcolor": "#E5ECF6",
          "polar": {
           "angularaxis": {
            "gridcolor": "white",
            "linecolor": "white",
            "ticks": ""
           },
           "bgcolor": "#E5ECF6",
           "radialaxis": {
            "gridcolor": "white",
            "linecolor": "white",
            "ticks": ""
           }
          },
          "scene": {
           "xaxis": {
            "backgroundcolor": "#E5ECF6",
            "gridcolor": "white",
            "gridwidth": 2,
            "linecolor": "white",
            "showbackground": true,
            "ticks": "",
            "zerolinecolor": "white"
           },
           "yaxis": {
            "backgroundcolor": "#E5ECF6",
            "gridcolor": "white",
            "gridwidth": 2,
            "linecolor": "white",
            "showbackground": true,
            "ticks": "",
            "zerolinecolor": "white"
           },
           "zaxis": {
            "backgroundcolor": "#E5ECF6",
            "gridcolor": "white",
            "gridwidth": 2,
            "linecolor": "white",
            "showbackground": true,
            "ticks": "",
            "zerolinecolor": "white"
           }
          },
          "shapedefaults": {
           "line": {
            "color": "#2a3f5f"
           }
          },
          "ternary": {
           "aaxis": {
            "gridcolor": "white",
            "linecolor": "white",
            "ticks": ""
           },
           "baxis": {
            "gridcolor": "white",
            "linecolor": "white",
            "ticks": ""
           },
           "bgcolor": "#E5ECF6",
           "caxis": {
            "gridcolor": "white",
            "linecolor": "white",
            "ticks": ""
           }
          },
          "title": {
           "x": 0.05
          },
          "xaxis": {
           "automargin": true,
           "gridcolor": "white",
           "linecolor": "white",
           "ticks": "",
           "title": {
            "standoff": 15
           },
           "zerolinecolor": "white",
           "zerolinewidth": 2
          },
          "yaxis": {
           "automargin": true,
           "gridcolor": "white",
           "linecolor": "white",
           "ticks": "",
           "title": {
            "standoff": 15
           },
           "zerolinecolor": "white",
           "zerolinewidth": 2
          }
         }
        }
       }
      }
     },
     "metadata": {},
     "output_type": "display_data"
    }
   ],
   "source": [
    "sunburst_df = df[['Education', 'Living_With']]\n",
    "\n",
    "fig = px.sunburst(sunburst_df, path=['Living_With', 'Education'])\n",
    "fig.show()"
   ]
  },
  {
   "cell_type": "code",
   "execution_count": 8,
   "metadata": {},
   "outputs": [
    {
     "data": {
      "image/png": "[encoded data removed]",
      "text/plain": [
       "<Figure size 432x288 with 1 Axes>"
      ]
     },
     "metadata": {
      "needs_background": "light"
     },
     "output_type": "display_data"
    }
   ],
   "source": [
    "campaigns_df = pd.melt(df, value_vars=['AcceptedCmp1','AcceptedCmp2','AcceptedCmp3','AcceptedCmp4','AcceptedCmp5'], var_name='campaign', value_name='success', ignore_index=True)\n",
    "success_df = campaigns_df[campaigns_df.success == 1]\n",
    "\n",
    "plot = sns.barplot(data=success_df, x='success', y='campaign', ci=None, estimator=np.sum)\n",
    "plot.bar_label(plot.containers[0]);"
   ]
  },
  {
   "cell_type": "code",
   "execution_count": 9,
   "metadata": {},
   "outputs": [
    {
     "data": {
      "image/png": "[encoded data removed]",
      "text/plain": [
       "<Figure size 360x360 with 1 Axes>"
      ]
     },
     "metadata": {
      "needs_background": "light"
     },
     "output_type": "display_data"
    }
   ],
   "source": [
    "sns.displot(df['Recency'], kde=True);"
   ]
  },
  {
   "cell_type": "code",
   "execution_count": 10,
   "metadata": {},
   "outputs": [
    {
     "data": {
      "image/png": "[encoded data removed]",
      "text/plain": [
       "<Figure size 432x288 with 1 Axes>"
      ]
     },
     "metadata": {
      "needs_background": "light"
     },
     "output_type": "display_data"
    }
   ],
   "source": [
    "source_purchases = df[['NumDealsPurchases', 'NumWebPurchases', 'NumCatalogPurchases', 'NumStorePurchases']].sum().reset_index().rename(columns={0: 'sum'})\n",
    "\n",
    "sns.barplot(x=source_purchases.index, y=source_purchases['sum'])\n",
    "plt.gca().set_xticklabels(['Deals', 'Web', 'Store', 'Catalog'])\n",
    "plt.xlabel('Purchase through')\n",
    "plt.ylabel('Number of purchases');"
   ]
  },
  {
   "cell_type": "code",
   "execution_count": 11,
   "metadata": {},
   "outputs": [
    {
     "data": {
      "image/png": "[encoded data removed]",
      "text/plain": [
       "<Figure size 432x288 with 1 Axes>"
      ]
     },
     "metadata": {
      "needs_background": "light"
     },
     "output_type": "display_data"
    }
   ],
   "source": [
    "spendings_per_product = df[['MntFruits', 'MntSweetProducts', 'MntFishProducts', 'MntMeatProducts', 'MntGoldProds']].sum().reset_index().rename(columns={0: 'sum'})\n",
    "\n",
    "sns.barplot(x=spendings_per_product.index, y=spendings_per_product['sum'])\n",
    "plt.gca().set_xticklabels(['Fruits', 'Sweets', 'Fish', 'Meat', 'Gold'])\n",
    "plt.ylabel('Amount spent');"
   ]
  },
  {
   "cell_type": "code",
   "execution_count": 21,
   "metadata": {},
   "outputs": [
    {
     "data": {
      "text/plain": [
       "Index(['ID', 'Year_Birth', 'Education', 'Marital_Status', 'Income', 'Kidhome',\n",
       "       'Teenhome', 'Dt_Customer', 'Recency', 'MntWines', 'MntFruits',\n",
       "       'MntMeatProducts', 'MntFishProducts', 'MntSweetProducts',\n",
       "       'MntGoldProds', 'NumDealsPurchases', 'NumWebPurchases',\n",
       "       'NumCatalogPurchases', 'NumStorePurchases', 'NumWebVisitsMonth',\n",
       "       'AcceptedCmp3', 'AcceptedCmp4', 'AcceptedCmp5', 'AcceptedCmp1',\n",
       "       'AcceptedCmp2', 'Complain', 'Response', 'Customer_For', 'Age', 'Spent',\n",
       "       'Living_With', 'Children', 'Family_Size', 'Is_Parent', 'TotalCmpAcc'],\n",
       "      dtype='object')"
      ]
     },
     "execution_count": 21,
     "metadata": {},
     "output_type": "execute_result"
    }
   ],
   "source": [
    "df.columns"
   ]
  },
  {
   "cell_type": "code",
   "execution_count": 20,
   "metadata": {},
   "outputs": [],
   "source": [
    "campaigns_cols = [col for col in df.columns if 'Cmp' in col]\n",
    "df['TotalCmpAcc'] = df[campaigns_cols].sum(axis=1)"
   ]
  },
  {
   "cell_type": "code",
   "execution_count": 29,
   "metadata": {},
   "outputs": [],
   "source": [
    "binary_cols = [col for col in df.columns if 'Accepted' in col] + ['Is_Parent']\n",
    "mnt_cols = [col for col in df.columns if 'Mnt' in col]\n",
    "channel_cols = [col for col in df.columns if 'Num' in col] + ['TotalCmpAcc']"
   ]
  },
  {
   "cell_type": "code",
   "execution_count": 30,
   "metadata": {},
   "outputs": [
    {
     "name": "stderr",
     "output_type": "stream",
     "text": [
      "/var/folders/tt/sv9fnlz53v1fhl_jq2jxkbk00000gn/T/ipykernel_61014/2032339422.py:1: FutureWarning:\n",
      "\n",
      "Dropping of nuisance columns in DataFrame reductions (with 'numeric_only=None') is deprecated; in a future version this will raise TypeError.  Select only valid columns before calling the reduction.\n",
      "\n"
     ]
    },
    {
     "data": {
      "text/html": [
       "<div>\n",
       "<style scoped>\n",
       "    .dataframe tbody tr th:only-of-type {\n",
       "        vertical-align: middle;\n",
       "    }\n",
       "\n",
       "    .dataframe tbody tr th {\n",
       "        vertical-align: top;\n",
       "    }\n",
       "\n",
       "    .dataframe thead th {\n",
       "        text-align: right;\n",
       "    }\n",
       "</style>\n",
       "<table border=\"1\" class=\"dataframe\">\n",
       "  <thead>\n",
       "    <tr style=\"text-align: right;\">\n",
       "      <th></th>\n",
       "      <th>Average</th>\n",
       "    </tr>\n",
       "  </thead>\n",
       "  <tbody>\n",
       "    <tr>\n",
       "      <th>Year_Birth</th>\n",
       "      <td>1968.9</td>\n",
       "    </tr>\n",
       "    <tr>\n",
       "      <th>Income</th>\n",
       "      <td>51958.8</td>\n",
       "    </tr>\n",
       "    <tr>\n",
       "      <th>Kidhome</th>\n",
       "      <td>0.4</td>\n",
       "    </tr>\n",
       "    <tr>\n",
       "      <th>Teenhome</th>\n",
       "      <td>0.5</td>\n",
       "    </tr>\n",
       "    <tr>\n",
       "      <th>Recency</th>\n",
       "      <td>49.0</td>\n",
       "    </tr>\n",
       "    <tr>\n",
       "      <th>Spent</th>\n",
       "      <td>607.3</td>\n",
       "    </tr>\n",
       "  </tbody>\n",
       "</table>\n",
       "</div>"
      ],
      "text/plain": [
       "            Average\n",
       "Year_Birth   1968.9\n",
       "Income      51958.8\n",
       "Kidhome         0.4\n",
       "Teenhome        0.5\n",
       "Recency        49.0\n",
       "Spent         607.3"
      ]
     },
     "execution_count": 30,
     "metadata": {},
     "output_type": "execute_result"
    }
   ],
   "source": [
    "pd.DataFrame(round(df.drop(columns=binary_cols+mnt_cols+channel_cols).mean(), 1), columns=['Average']).reindex(['Year_Birth', 'Income', 'Kidhome', 'Teenhome', 'Recency', 'Spent'])"
   ]
  },
  {
   "cell_type": "code",
   "execution_count": 34,
   "metadata": {},
   "outputs": [
    {
     "data": {
      "image/png": "[encoded data removed]",
      "text/plain": [
       "<Figure size 432x288 with 1 Axes>"
      ]
     },
     "metadata": {
      "needs_background": "light"
     },
     "output_type": "display_data"
    }
   ],
   "source": [
    "spendings = pd.DataFrame(round(df[mnt_cols].mean(), 1), columns=['Average']).sort_values(by='Average').reset_index()\n",
    "\n",
    "ax = sns.barplot(data=spendings, x='Average', y='index',)\n",
    "plt.ylabel('Amount spent on...')\n",
    "\n",
    "for p, q in zip(ax.patches, spendings['Average']):\n",
    "  ax.text(x=q + 40, y=p.get_y() + 0.5, s=q, ha=\"center\")"
   ]
  },
  {
   "cell_type": "code",
   "execution_count": 43,
   "metadata": {},
   "outputs": [],
   "source": [
    "df['Year_Customer'] = pd.DatetimeIndex(df['Dt_Customer']).year"
   ]
  },
  {
   "cell_type": "code",
   "execution_count": 46,
   "metadata": {},
   "outputs": [
    {
     "data": {
      "image/png": "[encoded data removed]",
      "text/plain": [
       "<Figure size 720x720 with 4 Axes>"
      ]
     },
     "metadata": {
      "needs_background": "light"
     },
     "output_type": "display_data"
    }
   ],
   "source": [
    "corr = df.drop(columns='ID').select_dtypes(include=np.number).corr(method='kendall')\n",
    "sns.clustermap(corr, cbar_pos=(-0.05, 0.8, 0.05, 0.18), cmap='coolwarm', center=0);"
   ]
  },
  {
   "cell_type": "markdown",
   "metadata": {},
   "source": [
    "From this heatmap we can observe the following clusters of correlated featuers: <br />\n",
    "\n",
    "The high income cluster:\n",
    "  - Amount spent and number of purchases are positively correlated with income\n",
    "  - Purchasing in store, on the web or via the catalog is postiveley correlated with income\n",
    "\n",
    "The have kids & teens:\n",
    "  - Amount spend and number of purchases are negatively correlated with children\n",
    "  - Purchasing deals is positively correlated with children\n",
    "\n",
    "The advertising campaigns:\n",
    "  - Acceptance of the advertising campaigns are strongly correlated with each other\n",
    "  - Weak positive correlation of the advertising campaigs is seen with the high income cluster, and weak negative correlation is seen with the have kids & teens cluster\n"
   ]
  },
  {
   "cell_type": "markdown",
   "metadata": {},
   "source": [
    "#### What factors are significantly related to the number of store purchases?"
   ]
  },
  {
   "cell_type": "code",
   "execution_count": 40,
   "metadata": {},
   "outputs": [
    {
     "data": {
      "text/plain": [
       "<AxesSubplot:xlabel='NumStorePurchases', ylabel='Count'>"
      ]
     },
     "execution_count": 40,
     "metadata": {},
     "output_type": "execute_result"
    },
    {
     "data": {
      "image/png": "[encoded data removed]",
      "text/plain": [
       "<Figure size 576x216 with 1 Axes>"
      ]
     },
     "metadata": {
      "needs_background": "light"
     },
     "output_type": "display_data"
    }
   ],
   "source": [
    "plt.figure(figsize=(8, 3))\n",
    "sns.histplot(df['NumStorePurchases'], kde=False, bins=12)"
   ]
  }
 ],
 "metadata": {
  "interpreter": {
   "hash": "c6e4e9f98eb68ad3b7c296f83d20e6de614cb42e90992a65aa266555a3137d0d"
  },
  "kernelspec": {
   "display_name": "Python 3.9.6 64-bit ('base': conda)",
   "language": "python",
   "name": "python3"
  },
  "language_info": {
   "codemirror_mode": {
    "name": "ipython",
    "version": 3
   },
   "file_extension": ".py",
   "mimetype": "text/x-python",
   "name": "python",
   "nbconvert_exporter": "python",
   "pygments_lexer": "ipython3",
   "version": "3.9.6"
  },
  "orig_nbformat": 4
 },
 "nbformat": 4,
 "nbformat_minor": 2
}
